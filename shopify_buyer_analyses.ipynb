{
 "cells": [
  {
   "cell_type": "markdown",
   "id": "2a23481d-b205-4162-a49c-7adadae0d7e7",
   "metadata": {},
   "source": [
    "# Shopify buyer exploratory analysis\n",
    "Purpose: analyze quick trends for Shopify buyers to understand the user experience"
   ]
  },
  {
   "cell_type": "code",
   "execution_count": 21,
   "id": "d379a8c4-62f4-41d2-9c36-daed061328ff",
   "metadata": {},
   "outputs": [],
   "source": [
    "import pandas as pd\n",
    "import numpy as np\n",
    "import seaborn as sns\n",
    "import matplotlib.pyplot as plt"
   ]
  },
  {
   "cell_type": "code",
   "execution_count": 4,
   "id": "4bf66d68-6bc8-49c2-919e-d8daa66ed849",
   "metadata": {},
   "outputs": [
    {
     "data": {
      "text/html": [
       "<div>\n",
       "<style scoped>\n",
       "    .dataframe tbody tr th:only-of-type {\n",
       "        vertical-align: middle;\n",
       "    }\n",
       "\n",
       "    .dataframe tbody tr th {\n",
       "        vertical-align: top;\n",
       "    }\n",
       "\n",
       "    .dataframe thead th {\n",
       "        text-align: right;\n",
       "    }\n",
       "</style>\n",
       "<table border=\"1\" class=\"dataframe\">\n",
       "  <thead>\n",
       "    <tr style=\"text-align: right;\">\n",
       "      <th></th>\n",
       "      <th>order_id</th>\n",
       "      <th>shop_id</th>\n",
       "      <th>user_id</th>\n",
       "      <th>order_amount</th>\n",
       "      <th>total_items</th>\n",
       "      <th>payment_method</th>\n",
       "      <th>created_at</th>\n",
       "    </tr>\n",
       "  </thead>\n",
       "  <tbody>\n",
       "    <tr>\n",
       "      <th>0</th>\n",
       "      <td>1</td>\n",
       "      <td>53</td>\n",
       "      <td>746</td>\n",
       "      <td>224</td>\n",
       "      <td>2</td>\n",
       "      <td>cash</td>\n",
       "      <td>2017-03-13 12:36:56</td>\n",
       "    </tr>\n",
       "    <tr>\n",
       "      <th>1</th>\n",
       "      <td>2</td>\n",
       "      <td>92</td>\n",
       "      <td>925</td>\n",
       "      <td>90</td>\n",
       "      <td>1</td>\n",
       "      <td>cash</td>\n",
       "      <td>2017-03-03 17:38:52</td>\n",
       "    </tr>\n",
       "    <tr>\n",
       "      <th>2</th>\n",
       "      <td>3</td>\n",
       "      <td>44</td>\n",
       "      <td>861</td>\n",
       "      <td>144</td>\n",
       "      <td>1</td>\n",
       "      <td>cash</td>\n",
       "      <td>2017-03-14 4:23:56</td>\n",
       "    </tr>\n",
       "    <tr>\n",
       "      <th>3</th>\n",
       "      <td>4</td>\n",
       "      <td>18</td>\n",
       "      <td>935</td>\n",
       "      <td>156</td>\n",
       "      <td>1</td>\n",
       "      <td>credit_card</td>\n",
       "      <td>2017-03-26 12:43:37</td>\n",
       "    </tr>\n",
       "    <tr>\n",
       "      <th>4</th>\n",
       "      <td>5</td>\n",
       "      <td>18</td>\n",
       "      <td>883</td>\n",
       "      <td>156</td>\n",
       "      <td>1</td>\n",
       "      <td>credit_card</td>\n",
       "      <td>2017-03-01 4:35:11</td>\n",
       "    </tr>\n",
       "  </tbody>\n",
       "</table>\n",
       "</div>"
      ],
      "text/plain": [
       "   order_id  shop_id  user_id  order_amount  total_items payment_method  \\\n",
       "0         1       53      746           224            2           cash   \n",
       "1         2       92      925            90            1           cash   \n",
       "2         3       44      861           144            1           cash   \n",
       "3         4       18      935           156            1    credit_card   \n",
       "4         5       18      883           156            1    credit_card   \n",
       "\n",
       "            created_at  \n",
       "0  2017-03-13 12:36:56  \n",
       "1  2017-03-03 17:38:52  \n",
       "2   2017-03-14 4:23:56  \n",
       "3  2017-03-26 12:43:37  \n",
       "4   2017-03-01 4:35:11  "
      ]
     },
     "execution_count": 4,
     "metadata": {},
     "output_type": "execute_result"
    }
   ],
   "source": [
    "# load in data\n",
    "df = pd.read_csv('Shopify.csv')\n",
    "df.head()"
   ]
  },
  {
   "cell_type": "code",
   "execution_count": 6,
   "id": "184018ad-f8a1-43ad-b81b-2e4677a9f601",
   "metadata": {},
   "outputs": [
    {
     "name": "stdout",
     "output_type": "stream",
     "text": [
      "<class 'pandas.core.frame.DataFrame'>\n",
      "RangeIndex: 5000 entries, 0 to 4999\n",
      "Data columns (total 7 columns):\n",
      " #   Column          Non-Null Count  Dtype \n",
      "---  ------          --------------  ----- \n",
      " 0   order_id        5000 non-null   int64 \n",
      " 1   shop_id         5000 non-null   int64 \n",
      " 2   user_id         5000 non-null   int64 \n",
      " 3   order_amount    5000 non-null   int64 \n",
      " 4   total_items     5000 non-null   int64 \n",
      " 5   payment_method  5000 non-null   object\n",
      " 6   created_at      5000 non-null   object\n",
      "dtypes: int64(5), object(2)\n",
      "memory usage: 273.6+ KB\n"
     ]
    }
   ],
   "source": [
    "df.info()\n",
    "# no null values, good"
   ]
  },
  {
   "cell_type": "code",
   "execution_count": 7,
   "id": "a2fd5fb1-6a38-4110-9dba-604c76708185",
   "metadata": {},
   "outputs": [
    {
     "data": {
      "text/html": [
       "<div>\n",
       "<style scoped>\n",
       "    .dataframe tbody tr th:only-of-type {\n",
       "        vertical-align: middle;\n",
       "    }\n",
       "\n",
       "    .dataframe tbody tr th {\n",
       "        vertical-align: top;\n",
       "    }\n",
       "\n",
       "    .dataframe thead th {\n",
       "        text-align: right;\n",
       "    }\n",
       "</style>\n",
       "<table border=\"1\" class=\"dataframe\">\n",
       "  <thead>\n",
       "    <tr style=\"text-align: right;\">\n",
       "      <th></th>\n",
       "      <th>order_id</th>\n",
       "      <th>shop_id</th>\n",
       "      <th>user_id</th>\n",
       "      <th>order_amount</th>\n",
       "      <th>total_items</th>\n",
       "    </tr>\n",
       "  </thead>\n",
       "  <tbody>\n",
       "    <tr>\n",
       "      <th>count</th>\n",
       "      <td>5000.000000</td>\n",
       "      <td>5000.000000</td>\n",
       "      <td>5000.000000</td>\n",
       "      <td>5000.000000</td>\n",
       "      <td>5000.00000</td>\n",
       "    </tr>\n",
       "    <tr>\n",
       "      <th>mean</th>\n",
       "      <td>2500.500000</td>\n",
       "      <td>50.078800</td>\n",
       "      <td>849.092400</td>\n",
       "      <td>3145.128000</td>\n",
       "      <td>8.78720</td>\n",
       "    </tr>\n",
       "    <tr>\n",
       "      <th>std</th>\n",
       "      <td>1443.520003</td>\n",
       "      <td>29.006118</td>\n",
       "      <td>87.798982</td>\n",
       "      <td>41282.539349</td>\n",
       "      <td>116.32032</td>\n",
       "    </tr>\n",
       "    <tr>\n",
       "      <th>min</th>\n",
       "      <td>1.000000</td>\n",
       "      <td>1.000000</td>\n",
       "      <td>607.000000</td>\n",
       "      <td>90.000000</td>\n",
       "      <td>1.00000</td>\n",
       "    </tr>\n",
       "    <tr>\n",
       "      <th>25%</th>\n",
       "      <td>1250.750000</td>\n",
       "      <td>24.000000</td>\n",
       "      <td>775.000000</td>\n",
       "      <td>163.000000</td>\n",
       "      <td>1.00000</td>\n",
       "    </tr>\n",
       "    <tr>\n",
       "      <th>50%</th>\n",
       "      <td>2500.500000</td>\n",
       "      <td>50.000000</td>\n",
       "      <td>849.000000</td>\n",
       "      <td>284.000000</td>\n",
       "      <td>2.00000</td>\n",
       "    </tr>\n",
       "    <tr>\n",
       "      <th>75%</th>\n",
       "      <td>3750.250000</td>\n",
       "      <td>75.000000</td>\n",
       "      <td>925.000000</td>\n",
       "      <td>390.000000</td>\n",
       "      <td>3.00000</td>\n",
       "    </tr>\n",
       "    <tr>\n",
       "      <th>max</th>\n",
       "      <td>5000.000000</td>\n",
       "      <td>100.000000</td>\n",
       "      <td>999.000000</td>\n",
       "      <td>704000.000000</td>\n",
       "      <td>2000.00000</td>\n",
       "    </tr>\n",
       "  </tbody>\n",
       "</table>\n",
       "</div>"
      ],
      "text/plain": [
       "          order_id      shop_id      user_id   order_amount  total_items\n",
       "count  5000.000000  5000.000000  5000.000000    5000.000000   5000.00000\n",
       "mean   2500.500000    50.078800   849.092400    3145.128000      8.78720\n",
       "std    1443.520003    29.006118    87.798982   41282.539349    116.32032\n",
       "min       1.000000     1.000000   607.000000      90.000000      1.00000\n",
       "25%    1250.750000    24.000000   775.000000     163.000000      1.00000\n",
       "50%    2500.500000    50.000000   849.000000     284.000000      2.00000\n",
       "75%    3750.250000    75.000000   925.000000     390.000000      3.00000\n",
       "max    5000.000000   100.000000   999.000000  704000.000000   2000.00000"
      ]
     },
     "execution_count": 7,
     "metadata": {},
     "output_type": "execute_result"
    }
   ],
   "source": [
    "df.describe()"
   ]
  },
  {
   "cell_type": "markdown",
   "id": "55dbd099-5a0d-42da-a6b3-38d2fa3c7039",
   "metadata": {},
   "source": [
    "## Analyze buyer behavior\n",
    "### Exploratory"
   ]
  },
  {
   "cell_type": "code",
   "execution_count": 10,
   "id": "e16ccbec-0f90-40de-a2e6-88fbd647e777",
   "metadata": {},
   "outputs": [
    {
     "name": "stdout",
     "output_type": "stream",
     "text": [
      "Total unique customers: 301\n",
      "Total orders: 5000\n",
      "Average orders per customer: 16.61\n",
      "\n",
      "Customer order frequency:\n",
      "One-time buyers: 0(0.0%)\n",
      "Repeat customers: 301(100.0%)\n",
      "Max orders by single customer: 28\n"
     ]
    }
   ],
   "source": [
    "# basic stats of buyers\n",
    "unique_customers = df['user_id'].nunique()\n",
    "print(f\"Total unique customers: {unique_customers}\")\n",
    "\n",
    "total_orders = len(df)\n",
    "print(f\"Total orders: {total_orders}\")\n",
    "\n",
    "print(f\"Average orders per customer: {total_orders/unique_customers:.2f}\")\n",
    "\n",
    "customer_orders = df['user_id'].value_counts()\n",
    "print(f\"\\nCustomer order frequency:\")\n",
    "print(f\"One-time buyers: {(customer_orders == 1).sum()}({(customer_orders == 1).sum()/unique_customers*100:.1f}%)\") # no buyer with just 1 purchase\n",
    "print(f\"Repeat customers: {(customer_orders > 1).sum()}({(customer_orders > 1).sum()/unique_customers*100:.1f}%)\") # all buyers bought more than one thing\n",
    "print(f\"Max orders by single customer: {customer_orders.max()}\")"
   ]
  },
  {
   "cell_type": "markdown",
   "id": "b4589e68-077b-4ad4-9a7f-43d4c0fac7f1",
   "metadata": {},
   "source": [
    "#### Purchase frequency "
   ]
  },
  {
   "cell_type": "markdown",
   "id": "4fd89568-f40b-45fb-88a7-707b8a66796a",
   "metadata": {},
   "source": [
    "#### Order amount stats"
   ]
  },
  {
   "cell_type": "code",
   "execution_count": 13,
   "id": "65b1acf9-f00d-4f79-a5b1-89292cd35202",
   "metadata": {},
   "outputs": [
    {
     "name": "stdout",
     "output_type": "stream",
     "text": [
      "Mean: $3145.13\n",
      "Median: $284.00\n",
      "Min: $90.00\n",
      "Max: $704000.00\n",
      "Standard Deviation: $41282.54\n",
      "25th percentile: $163.00\n",
      "75th percentile: $390.00\n"
     ]
    }
   ],
   "source": [
    "print(f\"Mean: ${df['order_amount'].mean():.2f}\")\n",
    "print(f\"Median: ${df['order_amount'].median():.2f}\")\n",
    "print(f\"Min: ${df['order_amount'].min():.2f}\")\n",
    "print(f\"Max: ${df['order_amount'].max():.2f}\")\n",
    "print(f\"Standard Deviation: ${df['order_amount'].std():.2f}\")\n",
    "print(f\"25th percentile: ${df['order_amount'].quantile(0.25):.2f}\")\n",
    "print(f\"75th percentile: ${df['order_amount'].quantile(0.75):.2f}\")\n",
    "# obviously some outliers here.."
   ]
  },
  {
   "cell_type": "markdown",
   "id": "1642a7ea-c419-4473-9174-3fef43625344",
   "metadata": {},
   "source": [
    "#### Total items stats"
   ]
  },
  {
   "cell_type": "code",
   "execution_count": 12,
   "id": "38848543-6db0-4e5f-92ff-84f571d27f61",
   "metadata": {},
   "outputs": [
    {
     "name": "stdout",
     "output_type": "stream",
     "text": [
      "Mean: $8.79\n",
      "Median: $2.00\n",
      "Min: $1.00\n",
      "Max: $2000.00\n",
      "Standard Deviation: $116.32\n",
      "25th percentile: $1.00\n",
      "75th percentile: $3.00\n"
     ]
    }
   ],
   "source": [
    "print(f\"Mean: ${df['total_items'].mean():.2f}\")\n",
    "print(f\"Median: ${df['total_items'].median():.2f}\")\n",
    "print(f\"Min: ${df['total_items'].min():.2f}\")\n",
    "print(f\"Max: ${df['total_items'].max():.2f}\")\n",
    "print(f\"Standard Deviation: ${df['total_items'].std():.2f}\")\n",
    "print(f\"25th percentile: ${df['total_items'].quantile(0.25):.2f}\")\n",
    "print(f\"75th percentile: ${df['total_items'].quantile(0.75):.2f}\")\n",
    "\n",
    "# obviously some outliers here.."
   ]
  },
  {
   "cell_type": "markdown",
   "id": "097f3fa1-4073-4350-a0f9-ded8dd51cbc3",
   "metadata": {},
   "source": [
    "#### Items purchased distribution"
   ]
  },
  {
   "cell_type": "code",
   "execution_count": 15,
   "id": "3d33d37d-88fb-4dab-b84e-272795e8afb0",
   "metadata": {},
   "outputs": [
    {
     "name": "stdout",
     "output_type": "stream",
     "text": [
      "Items per order distribution:\n",
      "1 items: 1830 orders (36.6%)\n",
      "2 items: 1832 orders (36.6%)\n",
      "3 items: 941 orders (18.8%)\n",
      "4 items: 293 orders (5.9%)\n",
      "5 items: 77 orders (1.5%)\n",
      "6 items: 9 orders (0.2%)\n",
      "8 items: 1 orders (0.0%)\n",
      "2000 items: 17 orders (0.3%)\n"
     ]
    }
   ],
   "source": [
    "items_dist = df['total_items'].value_counts().sort_index()\n",
    "print(f\"Items per order distribution:\")\n",
    "for items, count in items_dist.head(10).items():\n",
    "    print(f\"{items} items: {count} orders ({count/len(df)*100:.1f}%)\")\n",
    "    \n",
    "# these 17 orders with 2,000 items are likely fraudulent"
   ]
  },
  {
   "cell_type": "markdown",
   "id": "aca72543-377c-4e3f-88ca-a1a4f18819d3",
   "metadata": {},
   "source": [
    "#### Correlation between order amount and total items"
   ]
  },
  {
   "cell_type": "code",
   "execution_count": 18,
   "id": "cf4250a1-9a53-4463-82f7-dad62f70477c",
   "metadata": {},
   "outputs": [
    {
     "name": "stdout",
     "output_type": "stream",
     "text": [
      "Correlation between order_amount and total_items: 0.992\n"
     ]
    }
   ],
   "source": [
    "correlation = df['order_amount'].corr(df['total_items'])\n",
    "print(f\"Correlation between order_amount and total_items: {correlation:.3f}\")"
   ]
  },
  {
   "cell_type": "markdown",
   "id": "b75c066a-e879-4b40-95a2-f69e709b035a",
   "metadata": {},
   "source": [
    "### Payment method impact\n",
    "Do customers who pay with credit cards spend more per order than those who pay with cash?"
   ]
  },
  {
   "cell_type": "code",
   "execution_count": 35,
   "id": "23f50d78-84e5-4356-93c9-0eaf35a2e29a",
   "metadata": {},
   "outputs": [
    {
     "name": "stdout",
     "output_type": "stream",
     "text": [
      "Original data (with outliers)\n",
      "Original dataset shape: (5000, 7)\n",
      "Order amount range: $90.00 - $704000.00\n",
      "Items range: 1 - 2000\n",
      "\n",
      "Dataset stats after IQR outlier removal\n",
      "Cleaned dataset shape: (4859, 7)\n",
      "Rows removed: 141 (2.8%)\n",
      "Order amount range: $90.00 - $730.00\n",
      "Items range: 1 - 5\n"
     ]
    }
   ],
   "source": [
    "# deal with outliers\n",
    "print(\"Original data (with outliers)\")\n",
    "print(f\"Original dataset shape: {df.shape}\")\n",
    "print(f\"Order amount range: ${df['order_amount'].min():.2f} - ${df['order_amount'].max():.2f}\")\n",
    "print(f\"Items range: {df['total_items'].min()} - {df['total_items'].max()}\")\n",
    "\n",
    "# remove outliers outside of IQR function\n",
    "def remove_outliers_iqr(df, column):\n",
    "    Q1 = df[column].quantile(0.25)\n",
    "    Q3 = df[column].quantile(0.75)\n",
    "    IQR = Q3 - Q1\n",
    "    lower_bound = Q1 - 1.5 * IQR\n",
    "    upper_bound = Q3 + 1.5 * IQR\n",
    "    \n",
    "    # only keep data within IQR\n",
    "    return df[(df[column] >= lower_bound) & (df[column] <= upper_bound)]\n",
    "\n",
    "# remove outliers from both order_amount and total_items\n",
    "df_clean_iqr = remove_outliers_iqr(df, 'order_amount')\n",
    "df_clean_iqr = remove_outliers_iqr(df_clean_iqr, 'total_items')\n",
    "\n",
    "print(f\"\\nDataset stats after IQR outlier removal\")\n",
    "print(f\"Cleaned dataset shape: {df_clean_iqr.shape}\")\n",
    "print(f\"Rows removed: {len(df) - len(df_clean_iqr)} ({(len(df) - len(df_clean_iqr))/len(df)*100:.1f}%)\")\n",
    "print(f\"Order amount range: ${df_clean_iqr['order_amount'].min():.2f} - ${df_clean_iqr['order_amount'].max():.2f}\")\n",
    "print(f\"Items range: {df_clean_iqr['total_items'].min()} - {df_clean_iqr['total_items'].max()}\")"
   ]
  },
  {
   "cell_type": "code",
   "execution_count": 37,
   "id": "387e86e8-b750-4f24-b0dd-07ac66471a2a",
   "metadata": {},
   "outputs": [
    {
     "name": "stdout",
     "output_type": "stream",
     "text": [
      "Payment Method Distribution:\n",
      "credit_card: 1735 orders (34.7%)\n",
      "debit: 1671 orders (33.4%)\n",
      "cash: 1594 orders (31.9%)\n",
      "\n",
      "Order amount by payment method:\n",
      "                count     mean  median       std\n",
      "payment_method                                  \n",
      "cash             1594   730.35     281   4274.78\n",
      "credit_card      1735  7461.59     288  69416.52\n",
      "debit            1671   966.84     290   7148.19\n",
      "\n",
      "Items per order by payment method:\n",
      "                 mean  median\n",
      "payment_method               \n",
      "cash             1.96       2\n",
      "credit_card     21.56       2\n",
      "debit            2.03       2\n",
      "analysis with outliers removed (IQR method)\n",
      "\n",
      "Payment Method Distribution (after cleaning):\n",
      "credit_card: 1680 orders (34.6%)\n",
      "debit: 1624 orders (33.4%)\n",
      "cash: 1555 orders (32.0%)\n",
      "\n",
      "Order Amount by Payment Method (cleaned):\n",
      "                count    mean  median     std\n",
      "payment_method                               \n",
      "cash             1555  289.89     276  142.59\n",
      "credit_card      1680  292.79     280  145.30\n",
      "debit            1624  298.33     284  145.30\n",
      "\n",
      "Items per Order by Payment Method (cleaned):\n",
      "                mean  median\n",
      "payment_method              \n",
      "cash            1.93       2\n",
      "credit_card     1.94       2\n",
      "debit           1.98       2\n"
     ]
    }
   ],
   "source": [
    "payment_counts = df['payment_method'].value_counts()\n",
    "print(\"Payment Method Distribution:\")\n",
    "for method, count in payment_counts.items():\n",
    "    print(f\"{method}: {count} orders ({count/len(df)*100:.1f}%)\")\n",
    "\n",
    "# payment method vs order amount\n",
    "payment_stats = df.groupby('payment_method')['order_amount'].agg(['count', 'mean', 'median', 'std'])\n",
    "print(f\"\\nOrder amount by payment method:\")\n",
    "print(payment_stats.round(2))\n",
    "\n",
    "# payment method vs total items\n",
    "items_by_payment = df.groupby('payment_method')['total_items'].agg(['mean', 'median'])\n",
    "print(f\"\\nItems per order by payment method:\")\n",
    "print(items_by_payment.round(2))\n",
    "\n",
    "\n",
    "# analysis with cleaned data\n",
    "print(\"analysis with outliers removed (IQR method)\")\n",
    "\n",
    "payment_counts = df_clean['payment_method'].value_counts()\n",
    "print(\"\\nPayment Method Distribution (after cleaning):\")\n",
    "for method, count in payment_counts.items():\n",
    "    print(f\"{method}: {count} orders ({count/len(df_clean)*100:.1f}%)\")\n",
    "\n",
    "print(f\"\\nOrder Amount by Payment Method (cleaned):\")\n",
    "payment_stats_clean = df_clean.groupby('payment_method')['order_amount'].agg(['count', 'mean', 'median', 'std'])\n",
    "print(payment_stats_clean.round(2))\n",
    "\n",
    "print(f\"\\nItems per Order by Payment Method (cleaned):\")\n",
    "items_by_payment_clean = df_clean.groupby('payment_method')['total_items'].agg(['mean', 'median'])\n",
    "print(items_by_payment_clean.round(2))"
   ]
  },
  {
   "cell_type": "code",
   "execution_count": 39,
   "id": "922c1a16-ba87-4b99-a4c8-4582ef51846a",
   "metadata": {},
   "outputs": [
    {
     "data": {
      "image/png": "[encoded data removed]",
      "text/plain": [
       "<Figure size 1296x864 with 6 Axes>"
      ]
     },
     "metadata": {},
     "output_type": "display_data"
    }
   ],
   "source": [
    "# set seaborn style\n",
    "sns.set_style(\"whitegrid\")\n",
    "sns.set_palette(\"husl\")\n",
    "\n",
    "df_clean = df_clean_iqr.copy()\n",
    "\n",
    "fig, axes = plt.subplots(2, 3, figsize=(18, 12))\n",
    "fig.suptitle('Payment Method Analysis: Before vs After Outlier Removal', fontsize=16, fontweight='bold')\n",
    "\n",
    "payment_counts_orig = df['payment_method'].value_counts()\n",
    "payment_counts_orig.plot.pie(ax=axes[0,0], autopct='%1.1f%%', startangle=90)\n",
    "axes[0,0].set_title('Original: Payment Method Distribution', fontweight='bold')\n",
    "axes[0,0].set_ylabel('')\n",
    "\n",
    "sns.boxplot(data=df, x='payment_method', y='order_amount', ax=axes[0,1])\n",
    "axes[0,1].set_title('Original: Order Amount Distribution', fontweight='bold')\n",
    "axes[0,1].set_xlabel('Payment Method')\n",
    "axes[0,1].set_ylabel('Order Amount ($)')\n",
    "\n",
    "sns.boxplot(data=df, x='payment_method', y='total_items', ax=axes[0,2])\n",
    "axes[0,2].set_title('Original: Items per Order', fontweight='bold')\n",
    "axes[0,2].set_xlabel('Payment Method')\n",
    "axes[0,2].set_ylabel('Total Items')\n",
    "\n",
    "payment_counts_clean = df_clean['payment_method'].value_counts()\n",
    "payment_counts_clean.plot.pie(ax=axes[1,0], autopct='%1.1f%%', startangle=90)\n",
    "axes[1,0].set_title('Cleaned: Payment Method Distribution', fontweight='bold')\n",
    "axes[1,0].set_ylabel('')\n",
    "\n",
    "sns.boxplot(data=df_clean, x='payment_method', y='order_amount', ax=axes[1,1])\n",
    "axes[1,1].set_title('Cleaned: Order Amount Distribution', fontweight='bold')\n",
    "axes[1,1].set_xlabel('Payment Method')\n",
    "axes[1,1].set_ylabel('Order Amount ($)')\n",
    "\n",
    "sns.boxplot(data=df_clean, x='payment_method', y='total_items', ax=axes[1,2])\n",
    "axes[1,2].set_title('Cleaned: Items per Order', fontweight='bold')\n",
    "axes[1,2].set_xlabel('Payment Method')\n",
    "axes[1,2].set_ylabel('Total Items')\n",
    "\n",
    "plt.tight_layout()\n",
    "plt.show()\n"
   ]
  },
  {
   "cell_type": "markdown",
   "id": "8b2d931e-aac8-488a-b243-44494a60205d",
   "metadata": {},
   "source": [
    "### Repeat buyers impact\n",
    "What percentage of customers are repeat buyers, and how do their purchasing patterns differ from one-time buyers?\""
   ]
  },
  {
   "cell_type": "code",
   "execution_count": 40,
   "id": "210d27f3-1e73-44eb-b32e-187e75c19694",
   "metadata": {},
   "outputs": [
    {
     "name": "stdout",
     "output_type": "stream",
     "text": [
      "Top 10 customers by total spent:\n",
      "         total_spent  avg_order_value  order_count  total_items\n",
      "user_id                                                        \n",
      "607         11968000        704000.00           17        34000\n",
      "878           156936         14266.91           11           24\n",
      "834           108342          6019.00           18           38\n",
      "787            85707          3428.28           25           57\n",
      "969            84269          3663.87           23           50\n",
      "818            82485          4341.32           19           38\n",
      "775            81114          5069.62           16           28\n",
      "915            80992          5785.14           14           29\n",
      "817            80988          5061.75           16           30\n",
      "855            80915          4759.71           17           27\n",
      "\n",
      "Customer LTV statistics:\n",
      "Average total spent per customer: $52244.65\n",
      "Median total spent per customer: $5202.00\n",
      "Outliers removed\n",
      "Top 10 customers by total spent:\n",
      "         total_spent  avg_order_value  order_count  total_items\n",
      "user_id                                                        \n",
      "718             8952           319.71           28           58\n",
      "787             8532           355.50           24           54\n",
      "868             8317           308.04           27           52\n",
      "734             8200           341.67           24           52\n",
      "932             7857           327.38           24           53\n",
      "785             7751           337.00           23           51\n",
      "736             7642           382.10           20           46\n",
      "847             7437           297.48           25           50\n",
      "745             7305           332.05           22           49\n",
      "789             7213           327.86           22           47\n",
      "\n",
      "Customer LTV statistics:\n",
      "Average total spent per customer: $4757.21\n",
      "Median total spent per customer: $4629.50\n"
     ]
    }
   ],
   "source": [
    "customer_stats = df.groupby('user_id').agg({\n",
    "    'order_amount': ['sum', 'mean', 'count'],\n",
    "    'total_items': 'sum'\n",
    "}).round(2)\n",
    "\n",
    "customer_stats.columns = ['total_spent', 'avg_order_value', 'order_count', 'total_items']\n",
    "print(\"Top 10 customers by total spent:\")\n",
    "print(customer_stats.sort_values('total_spent', ascending=False).head(10))\n",
    "\n",
    "print(f\"\\nCustomer LTV statistics:\")\n",
    "print(f\"Average total spent per customer: ${customer_stats['total_spent'].mean():.2f}\")\n",
    "print(f\"Median total spent per customer: ${customer_stats['total_spent'].median():.2f}\")\n",
    "\n",
    "# with outliers removed\n",
    "print('Outliers removed')\n",
    "customer_stats_clean = df_clean.groupby('user_id').agg({\n",
    "    'order_amount': ['sum', 'mean', 'count'],\n",
    "    'total_items': 'sum'\n",
    "}).round(2)\n",
    "\n",
    "customer_stats_clean.columns = ['total_spent', 'avg_order_value', 'order_count', 'total_items']\n",
    "print(\"Top 10 customers by total spent:\")\n",
    "print(customer_stats_clean.sort_values('total_spent', ascending=False).head(10))\n",
    "\n",
    "print(f\"\\nCustomer LTV statistics:\")\n",
    "print(f\"Average total spent per customer: ${customer_stats_clean['total_spent'].mean():.2f}\")\n",
    "print(f\"Median total spent per customer: ${customer_stats_clean['total_spent'].median():.2f}\")"
   ]
  },
  {
   "cell_type": "code",
   "execution_count": null,
   "id": "07c69cd5-8325-42d9-aed4-0e9cb2265eee",
   "metadata": {},
   "outputs": [],
   "source": []
  }
 ],
 "metadata": {
  "kernelspec": {
   "display_name": "Python 3",
   "language": "python",
   "name": "python3"
  },
  "language_info": {
   "codemirror_mode": {
    "name": "ipython",
    "version": 3
   },
   "file_extension": ".py",
   "mimetype": "text/x-python",
   "name": "python",
   "nbconvert_exporter": "python",
   "pygments_lexer": "ipython3",
   "version": "3.8.8"
  }
 },
 "nbformat": 4,
 "nbformat_minor": 5
}
